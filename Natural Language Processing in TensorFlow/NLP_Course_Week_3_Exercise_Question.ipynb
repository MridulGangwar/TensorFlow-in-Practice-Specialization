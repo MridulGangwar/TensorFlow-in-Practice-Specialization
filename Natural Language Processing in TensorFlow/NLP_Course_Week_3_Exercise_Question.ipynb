{
  "nbformat": 4,
  "nbformat_minor": 0,
  "metadata": {
    "accelerator": "GPU",
    "colab": {
      "name": "NLP Course - Week 3 Exercise Question.ipynb",
      "provenance": [],
      "toc_visible": true
    },
    "kernelspec": {
      "display_name": "Python 3",
      "name": "python3"
    }
  },
  "cells": [
    {
      "cell_type": "code",
      "metadata": {
        "id": "zX4Kg8DUTKWO",
        "colab_type": "code",
        "colab": {}
      },
      "source": [
        "#@title Licensed under the Apache License, Version 2.0 (the \"License\");\n",
        "# you may not use this file except in compliance with the License.\n",
        "# You may obtain a copy of the License at\n",
        "#\n",
        "# https://www.apache.org/licenses/LICENSE-2.0\n",
        "#\n",
        "# Unless required by applicable law or agreed to in writing, software\n",
        "# distributed under the License is distributed on an \"AS IS\" BASIS,\n",
        "# WITHOUT WARRANTIES OR CONDITIONS OF ANY KIND, either express or implied.\n",
        "# See the License for the specific language governing permissions and\n",
        "# limitations under the License."
      ],
      "execution_count": 0,
      "outputs": []
    },
    {
      "cell_type": "code",
      "metadata": {
        "colab_type": "code",
        "id": "hmA6EzkQJ5jt",
        "colab": {}
      },
      "source": [
        "import json\n",
        "import tensorflow as tf\n",
        "import csv\n",
        "import random\n",
        "import numpy as np\n",
        "\n",
        "from tensorflow.keras.preprocessing.text import Tokenizer\n",
        "from tensorflow.keras.preprocessing.sequence import pad_sequences\n",
        "from tensorflow.keras.utils import to_categorical\n",
        "from tensorflow.keras import regularizers\n",
        "\n",
        "\n",
        "embedding_dim = 100\n",
        "max_length = 16\n",
        "trunc_type='post'\n",
        "padding_type='post'\n",
        "oov_tok = \"<OOV>\"\n",
        "training_size=16000\n",
        "test_portion=.1\n",
        "\n",
        "corpus = []\n"
      ],
      "execution_count": 0,
      "outputs": []
    },
    {
      "cell_type": "code",
      "metadata": {
        "colab_type": "code",
        "id": "bM0l_dORKqE0",
        "outputId": "adff7db6-1230-44ef-b579-e9fb0b5085d6",
        "colab": {
          "base_uri": "https://localhost:8080/",
          "height": 202
        }
      },
      "source": [
        "# Note that I cleaned the Stanford dataset to remove LATIN1 encoding to make it easier for Python CSV reader\n",
        "# You can do that yourself with:\n",
        "# iconv -f LATIN1 -t UTF8 training.1600000.processed.noemoticon.csv -o training_cleaned.csv\n",
        "# I then hosted it on my site to make it easier to use in this notebook\n",
        "\n",
        "!wget --no-check-certificate \\\n",
        "    https://storage.googleapis.com/laurencemoroney-blog.appspot.com/training_cleaned.csv \\\n",
        "    -O /tmp/training_cleaned.csv\n",
        "\n",
        "num_sentences = 0\n",
        "\n",
        "with open(\"/tmp/training_cleaned.csv\") as csvfile:\n",
        "    reader = csv.reader(csvfile, delimiter=',')\n",
        "    for row in reader:\n",
        "      list_item=[]\n",
        "      list_item.append(row[5])\n",
        "      this_label=row[0]\n",
        "      \n",
        "      if this_label=='0':\n",
        "          list_item.append(0)\n",
        "      else:\n",
        "          list_item.append(1)\n",
        "      \n",
        "      num_sentences = num_sentences + 1\n",
        "      corpus.append(list_item)\n"
      ],
      "execution_count": 8,
      "outputs": [
        {
          "output_type": "stream",
          "text": [
            "--2020-04-29 05:21:12--  https://storage.googleapis.com/laurencemoroney-blog.appspot.com/training_cleaned.csv\n",
            "Resolving storage.googleapis.com (storage.googleapis.com)... 74.125.140.128, 2a00:1450:400c:c02::80\n",
            "Connecting to storage.googleapis.com (storage.googleapis.com)|74.125.140.128|:443... connected.\n",
            "HTTP request sent, awaiting response... 200 OK\n",
            "Length: 238942690 (228M) [application/octet-stream]\n",
            "Saving to: ‘/tmp/training_cleaned.csv’\n",
            "\n",
            "/tmp/training_clean 100%[===================>] 227.87M   101MB/s    in 2.2s    \n",
            "\n",
            "2020-04-29 05:21:15 (101 MB/s) - ‘/tmp/training_cleaned.csv’ saved [238942690/238942690]\n",
            "\n"
          ],
          "name": "stdout"
        }
      ]
    },
    {
      "cell_type": "code",
      "metadata": {
        "colab_type": "code",
        "id": "3kxblBUjEUX-",
        "outputId": "c03308b5-46ea-4209-98dd-e00cc0dfd5a6",
        "colab": {
          "base_uri": "https://localhost:8080/",
          "height": 67
        }
      },
      "source": [
        "print(num_sentences)\n",
        "print(len(corpus))\n",
        "print(corpus[1])\n",
        "\n",
        "# Expected Output:\n",
        "# 1600000\n",
        "# 1600000\n",
        "# [\"is upset that he can't update his Facebook by texting it... and might cry as a result  School today also. Blah!\", 0]"
      ],
      "execution_count": 9,
      "outputs": [
        {
          "output_type": "stream",
          "text": [
            "1600000\n",
            "1600000\n",
            "[\"is upset that he can't update his Facebook by texting it... and might cry as a result  School today also. Blah!\", 0]\n"
          ],
          "name": "stdout"
        }
      ]
    },
    {
      "cell_type": "code",
      "metadata": {
        "colab_type": "code",
        "id": "ohOGz24lsNAD",
        "colab": {}
      },
      "source": [
        "sentences=[]\n",
        "labels=[]\n",
        "random.shuffle(corpus)\n",
        "for x in range(training_size):\n",
        "    sentences.append(corpus[x][0])\n",
        "    labels.append(corpus[x][1])\n",
        "\n",
        "\n",
        "tokenizer = Tokenizer()\n",
        "tokenizer.fit_on_texts(sentences)\n",
        "\n",
        "word_index = tokenizer.word_index\n",
        "vocab_size=len(word_index)\n",
        "\n",
        "sequences = tokenizer.texts_to_sequences(sentences)\n",
        "padded = pad_sequences(sequences, maxlen=max_length, padding=padding_type, truncating=trunc_type)\n",
        "\n",
        "split = int(test_portion * training_size)\n",
        "\n",
        "test_sequences = np.array(padded[0:split])\n",
        "training_sequences = np.array(padded[split:training_size])\n",
        "test_labels = np.array(labels[0:split])\n",
        "training_labels = np.array(labels[split:training_size])"
      ],
      "execution_count": 0,
      "outputs": []
    },
    {
      "cell_type": "code",
      "metadata": {
        "colab_type": "code",
        "id": "gIrtRem1En3N",
        "outputId": "bdd461a7-fccd-4367-d3ca-d92135975020",
        "colab": {
          "base_uri": "https://localhost:8080/",
          "height": 50
        }
      },
      "source": [
        "print(vocab_size)\n",
        "print(word_index['i'])\n",
        "# Expected Output\n",
        "# 138858\n",
        "# 1"
      ],
      "execution_count": 11,
      "outputs": [
        {
          "output_type": "stream",
          "text": [
            "26482\n",
            "1\n"
          ],
          "name": "stdout"
        }
      ]
    },
    {
      "cell_type": "code",
      "metadata": {
        "colab_type": "code",
        "id": "C1zdgJkusRh0",
        "outputId": "e6f1acaa-5435-46a8-f50d-128a73260b31",
        "colab": {
          "base_uri": "https://localhost:8080/",
          "height": 202
        }
      },
      "source": [
        "# Note this is the 100 dimension version of GloVe from Stanford\n",
        "# I unzipped and hosted it on my site to make this notebook easier\n",
        "!wget --no-check-certificate \\\n",
        "    https://storage.googleapis.com/laurencemoroney-blog.appspot.com/glove.6B.100d.txt \\\n",
        "    -O /tmp/glove.6B.100d.txt\n",
        "embeddings_index = {};\n",
        "with open('/tmp/glove.6B.100d.txt') as f:\n",
        "    for line in f:\n",
        "        values = line.split();\n",
        "        word = values[0];\n",
        "        coefs = np.asarray(values[1:], dtype='float32');\n",
        "        embeddings_index[word] = coefs;\n",
        "\n",
        "embeddings_matrix = np.zeros((vocab_size+1, embedding_dim));\n",
        "for word, i in word_index.items():\n",
        "    embedding_vector = embeddings_index.get(word);\n",
        "    if embedding_vector is not None:\n",
        "        embeddings_matrix[i] = embedding_vector;"
      ],
      "execution_count": 12,
      "outputs": [
        {
          "output_type": "stream",
          "text": [
            "--2020-04-29 05:21:26--  https://storage.googleapis.com/laurencemoroney-blog.appspot.com/glove.6B.100d.txt\n",
            "Resolving storage.googleapis.com (storage.googleapis.com)... 173.194.76.128, 2a00:1450:400c:c02::80\n",
            "Connecting to storage.googleapis.com (storage.googleapis.com)|173.194.76.128|:443... connected.\n",
            "HTTP request sent, awaiting response... 200 OK\n",
            "Length: 347116733 (331M) [text/plain]\n",
            "Saving to: ‘/tmp/glove.6B.100d.txt’\n",
            "\n",
            "/tmp/glove.6B.100d. 100%[===================>] 331.04M   172MB/s    in 1.9s    \n",
            "\n",
            "2020-04-29 05:21:28 (172 MB/s) - ‘/tmp/glove.6B.100d.txt’ saved [347116733/347116733]\n",
            "\n"
          ],
          "name": "stdout"
        }
      ]
    },
    {
      "cell_type": "code",
      "metadata": {
        "colab_type": "code",
        "id": "71NLk_lpFLNt",
        "outputId": "1ebd1b8f-502b-477b-bc31-dc0107790c59",
        "colab": {
          "base_uri": "https://localhost:8080/",
          "height": 34
        }
      },
      "source": [
        "print(len(embeddings_matrix))\n",
        "# Expected Output\n",
        "# 138859"
      ],
      "execution_count": 13,
      "outputs": [
        {
          "output_type": "stream",
          "text": [
            "26483\n"
          ],
          "name": "stdout"
        }
      ]
    },
    {
      "cell_type": "code",
      "metadata": {
        "colab_type": "code",
        "id": "iKKvbuEBOGFz",
        "colab": {
          "base_uri": "https://localhost:8080/",
          "height": 1000
        },
        "outputId": "d40d5c8e-2d1d-40fc-ed6d-b94838821123"
      },
      "source": [
        "model = tf.keras.Sequential([\n",
        "    tf.keras.layers.Embedding(vocab_size+1, embedding_dim, input_length=max_length, weights=[embeddings_matrix], trainable=False),\n",
        "    tf.keras.layers.Dropout(0.2),\n",
        "    tf.keras.layers.Conv1D(64, 5, activation='relu'),\n",
        "    tf.keras.layers.MaxPooling1D(pool_size=4),\n",
        "    tf.keras.layers.Bidirectional(tf.keras.layers.LSTM(32)),\n",
        "    tf.keras.layers.Dense(64, activation='relu'),\n",
        "    tf.keras.layers.Dense(1, activation='sigmoid')\n",
        "])\n",
        "model.compile(loss='binary_crossentropy',optimizer='adam',metrics=['accuracy'])\n",
        "model.summary()\n",
        "\n",
        "num_epochs = 50\n",
        "history = model.fit(training_sequences, training_labels, epochs=num_epochs, validation_data=(test_sequences, test_labels), verbose=2)\n",
        "\n",
        "print(\"Training Complete\")\n"
      ],
      "execution_count": 14,
      "outputs": [
        {
          "output_type": "stream",
          "text": [
            "Model: \"sequential\"\n",
            "_________________________________________________________________\n",
            "Layer (type)                 Output Shape              Param #   \n",
            "=================================================================\n",
            "embedding (Embedding)        (None, 16, 100)           2648300   \n",
            "_________________________________________________________________\n",
            "dropout (Dropout)            (None, 16, 100)           0         \n",
            "_________________________________________________________________\n",
            "conv1d (Conv1D)              (None, 12, 64)            32064     \n",
            "_________________________________________________________________\n",
            "max_pooling1d (MaxPooling1D) (None, 3, 64)             0         \n",
            "_________________________________________________________________\n",
            "bidirectional (Bidirectional (None, 64)                24832     \n",
            "_________________________________________________________________\n",
            "dense (Dense)                (None, 64)                4160      \n",
            "_________________________________________________________________\n",
            "dense_1 (Dense)              (None, 1)                 65        \n",
            "=================================================================\n",
            "Total params: 2,709,421\n",
            "Trainable params: 61,121\n",
            "Non-trainable params: 2,648,300\n",
            "_________________________________________________________________\n",
            "Epoch 1/50\n",
            "450/450 - 4s - loss: 0.6343 - accuracy: 0.6338 - val_loss: 0.5874 - val_accuracy: 0.6850\n",
            "Epoch 2/50\n",
            "450/450 - 3s - loss: 0.5777 - accuracy: 0.6940 - val_loss: 0.5768 - val_accuracy: 0.6919\n",
            "Epoch 3/50\n",
            "450/450 - 3s - loss: 0.5459 - accuracy: 0.7181 - val_loss: 0.5678 - val_accuracy: 0.7000\n",
            "Epoch 4/50\n",
            "450/450 - 3s - loss: 0.5166 - accuracy: 0.7374 - val_loss: 0.5536 - val_accuracy: 0.7169\n",
            "Epoch 5/50\n",
            "450/450 - 3s - loss: 0.4945 - accuracy: 0.7560 - val_loss: 0.5581 - val_accuracy: 0.7181\n",
            "Epoch 6/50\n",
            "450/450 - 3s - loss: 0.4601 - accuracy: 0.7776 - val_loss: 0.5646 - val_accuracy: 0.7000\n",
            "Epoch 7/50\n",
            "450/450 - 3s - loss: 0.4368 - accuracy: 0.7935 - val_loss: 0.5959 - val_accuracy: 0.6981\n",
            "Epoch 8/50\n",
            "450/450 - 3s - loss: 0.4143 - accuracy: 0.8069 - val_loss: 0.6061 - val_accuracy: 0.6944\n",
            "Epoch 9/50\n",
            "450/450 - 3s - loss: 0.3896 - accuracy: 0.8182 - val_loss: 0.5836 - val_accuracy: 0.7038\n",
            "Epoch 10/50\n",
            "450/450 - 3s - loss: 0.3700 - accuracy: 0.8306 - val_loss: 0.6238 - val_accuracy: 0.7212\n",
            "Epoch 11/50\n",
            "450/450 - 3s - loss: 0.3425 - accuracy: 0.8470 - val_loss: 0.6339 - val_accuracy: 0.6950\n",
            "Epoch 12/50\n",
            "450/450 - 3s - loss: 0.3315 - accuracy: 0.8508 - val_loss: 0.6534 - val_accuracy: 0.7081\n",
            "Epoch 13/50\n",
            "450/450 - 3s - loss: 0.3135 - accuracy: 0.8639 - val_loss: 0.6774 - val_accuracy: 0.7038\n",
            "Epoch 14/50\n",
            "450/450 - 3s - loss: 0.2996 - accuracy: 0.8702 - val_loss: 0.7358 - val_accuracy: 0.6944\n",
            "Epoch 15/50\n",
            "450/450 - 3s - loss: 0.2931 - accuracy: 0.8729 - val_loss: 0.7044 - val_accuracy: 0.6913\n",
            "Epoch 16/50\n",
            "450/450 - 3s - loss: 0.2835 - accuracy: 0.8793 - val_loss: 0.8016 - val_accuracy: 0.6650\n",
            "Epoch 17/50\n",
            "450/450 - 3s - loss: 0.2634 - accuracy: 0.8886 - val_loss: 0.7476 - val_accuracy: 0.6944\n",
            "Epoch 18/50\n",
            "450/450 - 3s - loss: 0.2600 - accuracy: 0.8897 - val_loss: 0.7507 - val_accuracy: 0.6981\n",
            "Epoch 19/50\n",
            "450/450 - 3s - loss: 0.2547 - accuracy: 0.8951 - val_loss: 0.7930 - val_accuracy: 0.6900\n",
            "Epoch 20/50\n",
            "450/450 - 3s - loss: 0.2422 - accuracy: 0.8985 - val_loss: 0.8302 - val_accuracy: 0.6944\n",
            "Epoch 21/50\n",
            "450/450 - 3s - loss: 0.2385 - accuracy: 0.9010 - val_loss: 0.8167 - val_accuracy: 0.6825\n",
            "Epoch 22/50\n",
            "450/450 - 3s - loss: 0.2268 - accuracy: 0.9028 - val_loss: 0.8167 - val_accuracy: 0.6956\n",
            "Epoch 23/50\n",
            "450/450 - 3s - loss: 0.2238 - accuracy: 0.9073 - val_loss: 0.8093 - val_accuracy: 0.7031\n",
            "Epoch 24/50\n",
            "450/450 - 3s - loss: 0.2194 - accuracy: 0.9081 - val_loss: 0.8214 - val_accuracy: 0.6931\n",
            "Epoch 25/50\n",
            "450/450 - 3s - loss: 0.2143 - accuracy: 0.9104 - val_loss: 0.8520 - val_accuracy: 0.7044\n",
            "Epoch 26/50\n",
            "450/450 - 3s - loss: 0.2084 - accuracy: 0.9137 - val_loss: 0.8642 - val_accuracy: 0.6913\n",
            "Epoch 27/50\n",
            "450/450 - 3s - loss: 0.2011 - accuracy: 0.9158 - val_loss: 0.8742 - val_accuracy: 0.6913\n",
            "Epoch 28/50\n",
            "450/450 - 3s - loss: 0.2009 - accuracy: 0.9169 - val_loss: 0.8714 - val_accuracy: 0.6975\n",
            "Epoch 29/50\n",
            "450/450 - 3s - loss: 0.1920 - accuracy: 0.9206 - val_loss: 0.8824 - val_accuracy: 0.6900\n",
            "Epoch 30/50\n",
            "450/450 - 3s - loss: 0.1881 - accuracy: 0.9231 - val_loss: 0.9392 - val_accuracy: 0.6919\n",
            "Epoch 31/50\n",
            "450/450 - 3s - loss: 0.1830 - accuracy: 0.9242 - val_loss: 0.9445 - val_accuracy: 0.6756\n",
            "Epoch 32/50\n",
            "450/450 - 3s - loss: 0.1761 - accuracy: 0.9302 - val_loss: 0.9966 - val_accuracy: 0.6806\n",
            "Epoch 33/50\n",
            "450/450 - 3s - loss: 0.1787 - accuracy: 0.9275 - val_loss: 0.9165 - val_accuracy: 0.6950\n",
            "Epoch 34/50\n",
            "450/450 - 3s - loss: 0.1749 - accuracy: 0.9297 - val_loss: 0.9698 - val_accuracy: 0.6831\n",
            "Epoch 35/50\n",
            "450/450 - 3s - loss: 0.1725 - accuracy: 0.9312 - val_loss: 0.9456 - val_accuracy: 0.6894\n",
            "Epoch 36/50\n",
            "450/450 - 3s - loss: 0.1704 - accuracy: 0.9305 - val_loss: 0.9722 - val_accuracy: 0.6950\n",
            "Epoch 37/50\n",
            "450/450 - 3s - loss: 0.1665 - accuracy: 0.9338 - val_loss: 0.9221 - val_accuracy: 0.6913\n",
            "Epoch 38/50\n",
            "450/450 - 3s - loss: 0.1615 - accuracy: 0.9363 - val_loss: 0.9662 - val_accuracy: 0.6925\n",
            "Epoch 39/50\n",
            "450/450 - 3s - loss: 0.1605 - accuracy: 0.9344 - val_loss: 0.9496 - val_accuracy: 0.6787\n",
            "Epoch 40/50\n",
            "450/450 - 3s - loss: 0.1566 - accuracy: 0.9365 - val_loss: 0.9947 - val_accuracy: 0.6900\n",
            "Epoch 41/50\n",
            "450/450 - 3s - loss: 0.1608 - accuracy: 0.9360 - val_loss: 1.0224 - val_accuracy: 0.6825\n",
            "Epoch 42/50\n",
            "450/450 - 3s - loss: 0.1521 - accuracy: 0.9391 - val_loss: 1.0507 - val_accuracy: 0.6869\n",
            "Epoch 43/50\n",
            "450/450 - 3s - loss: 0.1442 - accuracy: 0.9428 - val_loss: 0.9898 - val_accuracy: 0.6944\n",
            "Epoch 44/50\n",
            "450/450 - 3s - loss: 0.1523 - accuracy: 0.9392 - val_loss: 1.0125 - val_accuracy: 0.6881\n",
            "Epoch 45/50\n",
            "450/450 - 3s - loss: 0.1468 - accuracy: 0.9406 - val_loss: 1.0275 - val_accuracy: 0.6837\n",
            "Epoch 46/50\n",
            "450/450 - 3s - loss: 0.1419 - accuracy: 0.9434 - val_loss: 1.0509 - val_accuracy: 0.6862\n",
            "Epoch 47/50\n",
            "450/450 - 3s - loss: 0.1498 - accuracy: 0.9399 - val_loss: 1.0686 - val_accuracy: 0.6812\n",
            "Epoch 48/50\n",
            "450/450 - 3s - loss: 0.1436 - accuracy: 0.9430 - val_loss: 1.0534 - val_accuracy: 0.6725\n",
            "Epoch 49/50\n",
            "450/450 - 3s - loss: 0.1427 - accuracy: 0.9444 - val_loss: 1.0099 - val_accuracy: 0.6869\n",
            "Epoch 50/50\n",
            "450/450 - 3s - loss: 0.1370 - accuracy: 0.9465 - val_loss: 1.0924 - val_accuracy: 0.6981\n",
            "Training Complete\n"
          ],
          "name": "stdout"
        }
      ]
    },
    {
      "cell_type": "code",
      "metadata": {
        "colab_type": "code",
        "id": "qxju4ItJKO8F",
        "colab": {
          "base_uri": "https://localhost:8080/",
          "height": 606
        },
        "outputId": "73a9ca8e-697f-4b88-cf24-23a300ab8b9b"
      },
      "source": [
        "import matplotlib.image  as mpimg\n",
        "import matplotlib.pyplot as plt\n",
        "\n",
        "#-----------------------------------------------------------\n",
        "# Retrieve a list of list results on training and test data\n",
        "# sets for each training epoch\n",
        "#-----------------------------------------------------------\n",
        "acc=history.history['accuracy']\n",
        "val_acc=history.history['val_accuracy']\n",
        "loss=history.history['loss']\n",
        "val_loss=history.history['val_loss']\n",
        "\n",
        "epochs=range(len(acc)) # Get number of epochs\n",
        "\n",
        "#------------------------------------------------\n",
        "# Plot training and validation accuracy per epoch\n",
        "#------------------------------------------------\n",
        "plt.plot(epochs, acc, 'r')\n",
        "plt.plot(epochs, val_acc, 'b')\n",
        "plt.title('Training and validation accuracy')\n",
        "plt.xlabel(\"Epochs\")\n",
        "plt.ylabel(\"Accuracy\")\n",
        "plt.legend([\"Accuracy\", \"Validation Accuracy\"])\n",
        "\n",
        "plt.figure()\n",
        "\n",
        "#------------------------------------------------\n",
        "# Plot training and validation loss per epoch\n",
        "#------------------------------------------------\n",
        "plt.plot(epochs, loss, 'r')\n",
        "plt.plot(epochs, val_loss, 'b')\n",
        "plt.title('Training and validation loss')\n",
        "plt.xlabel(\"Epochs\")\n",
        "plt.ylabel(\"Loss\")\n",
        "plt.legend([\"Loss\", \"Validation Loss\"])\n",
        "\n",
        "plt.figure()\n",
        "\n",
        "\n",
        "# Expected Output\n",
        "# A chart where the validation loss does not increase sharply!"
      ],
      "execution_count": 15,
      "outputs": [
        {
          "output_type": "execute_result",
          "data": {
            "text/plain": [
              "<Figure size 432x288 with 0 Axes>"
            ]
          },
          "metadata": {
            "tags": []
          },
          "execution_count": 15
        },
        {
          "output_type": "display_data",
          "data": {
            "image/png": "[encoded data removed]",
            "text/plain": [
              "<Figure size 432x288 with 1 Axes>"
            ]
          },
          "metadata": {
            "tags": [],
            "needs_background": "light"
          }
        },
        {
          "output_type": "display_data",
          "data": {
            "image/png": "[encoded data removed]",
            "text/plain": [
              "<Figure size 432x288 with 1 Axes>"
            ]
          },
          "metadata": {
            "tags": [],
            "needs_background": "light"
          }
        },
        {
          "output_type": "display_data",
          "data": {
            "text/plain": [
              "<Figure size 432x288 with 0 Axes>"
            ]
          },
          "metadata": {
            "tags": []
          }
        }
      ]
    },
    {
      "cell_type": "code",
      "metadata": {
        "id": "stGbSmh1ZKNc",
        "colab_type": "code",
        "colab": {}
      },
      "source": [
        ""
      ],
      "execution_count": 0,
      "outputs": []
    }
  ]
}