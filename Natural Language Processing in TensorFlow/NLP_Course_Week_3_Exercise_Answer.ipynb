{
  "nbformat": 4,
  "nbformat_minor": 0,
  "metadata": {
    "accelerator": "GPU",
    "colab": {
      "name": "NLP Course - Week 3 Exercise Answer.ipynb",
      "provenance": [],
      "toc_visible": true
    },
    "kernelspec": {
      "display_name": "Python 3",
      "name": "python3"
    }
  },
  "cells": [
    {
      "cell_type": "code",
      "metadata": {
        "id": "zX4Kg8DUTKWO",
        "colab_type": "code",
        "colab": {}
      },
      "source": [
        "#@title Licensed under the Apache License, Version 2.0 (the \"License\");\n",
        "# you may not use this file except in compliance with the License.\n",
        "# You may obtain a copy of the License at\n",
        "#\n",
        "# https://www.apache.org/licenses/LICENSE-2.0\n",
        "#\n",
        "# Unless required by applicable law or agreed to in writing, software\n",
        "# distributed under the License is distributed on an \"AS IS\" BASIS,\n",
        "# WITHOUT WARRANTIES OR CONDITIONS OF ANY KIND, either express or implied.\n",
        "# See the License for the specific language governing permissions and\n",
        "# limitations under the License."
      ],
      "execution_count": 0,
      "outputs": []
    },
    {
      "cell_type": "code",
      "metadata": {
        "colab_type": "code",
        "id": "hmA6EzkQJ5jt",
        "colab": {}
      },
      "source": [
        "import json\n",
        "import tensorflow as tf\n",
        "import csv\n",
        "import random\n",
        "import numpy as np\n",
        "\n",
        "from tensorflow.keras.preprocessing.text import Tokenizer\n",
        "from tensorflow.keras.preprocessing.sequence import pad_sequences\n",
        "from tensorflow.keras.utils import to_categorical\n",
        "from tensorflow.keras import regularizers\n",
        "\n",
        "\n",
        "embedding_dim = 100\n",
        "max_length = 16\n",
        "trunc_type='post'\n",
        "padding_type='post'\n",
        "oov_tok = \"<OOV>\"\n",
        "training_size=160000\n",
        "test_portion=.1\n",
        "\n",
        "corpus = []\n"
      ],
      "execution_count": 0,
      "outputs": []
    },
    {
      "cell_type": "code",
      "metadata": {
        "colab_type": "code",
        "id": "bM0l_dORKqE0",
        "outputId": "64669b03-1cbd-408e-ffd8-3d40c262ba03",
        "colab": {
          "base_uri": "https://localhost:8080/",
          "height": 202
        }
      },
      "source": [
        "# Note that I cleaned the Stanford dataset to remove LATIN1 encoding to make it easier for Python CSV reader\n",
        "# You can do that yourself with:\n",
        "# iconv -f LATIN1 -t UTF8 training.1600000.processed.noemoticon.csv -o training_cleaned.csv\n",
        "# I then hosted it on my site to make it easier to use in this notebook\n",
        "\n",
        "!wget --no-check-certificate \\\n",
        "    https://storage.googleapis.com/laurencemoroney-blog.appspot.com/training_cleaned.csv \\\n",
        "    -O /tmp/training_cleaned.csv\n",
        "\n",
        "num_sentences = 0\n",
        "\n",
        "with open(\"/tmp/training_cleaned.csv\") as csvfile:\n",
        "    reader = csv.reader(csvfile, delimiter=',')\n",
        "    for row in reader:\n",
        "        list_item=[]\n",
        "        list_item.append(row[5])\n",
        "        this_label=row[0]\n",
        "        if this_label=='0':\n",
        "            list_item.append(0)\n",
        "        else:\n",
        "            list_item.append(1)\n",
        "        num_sentences = num_sentences + 1\n",
        "        corpus.append(list_item)\n"
      ],
      "execution_count": 2,
      "outputs": [
        {
          "output_type": "stream",
          "text": [
            "--2020-04-29 05:28:18--  https://storage.googleapis.com/laurencemoroney-blog.appspot.com/training_cleaned.csv\n",
            "Resolving storage.googleapis.com (storage.googleapis.com)... 74.125.71.128, 2a00:1450:400c:c06::80\n",
            "Connecting to storage.googleapis.com (storage.googleapis.com)|74.125.71.128|:443... connected.\n",
            "HTTP request sent, awaiting response... 200 OK\n",
            "Length: 238942690 (228M) [application/octet-stream]\n",
            "Saving to: ‘/tmp/training_cleaned.csv’\n",
            "\n",
            "/tmp/training_clean 100%[===================>] 227.87M  67.1MB/s    in 3.4s    \n",
            "\n",
            "2020-04-29 05:28:22 (67.1 MB/s) - ‘/tmp/training_cleaned.csv’ saved [238942690/238942690]\n",
            "\n"
          ],
          "name": "stdout"
        }
      ]
    },
    {
      "cell_type": "code",
      "metadata": {
        "colab_type": "code",
        "id": "3kxblBUjEUX-",
        "outputId": "eb89cdcd-6a5b-4419-b2fa-1096e52b2fe6",
        "colab": {
          "base_uri": "https://localhost:8080/",
          "height": 67
        }
      },
      "source": [
        "print(num_sentences)\n",
        "print(len(corpus))\n",
        "print(corpus[1])\n",
        "\n",
        "# Expected Output:\n",
        "# 1600000\n",
        "# 1600000\n",
        "# [\"is upset that he can't update his Facebook by texting it... and might cry as a result  School today also. Blah!\", 0]"
      ],
      "execution_count": 3,
      "outputs": [
        {
          "output_type": "stream",
          "text": [
            "1600000\n",
            "1600000\n",
            "[\"is upset that he can't update his Facebook by texting it... and might cry as a result  School today also. Blah!\", 0]\n"
          ],
          "name": "stdout"
        }
      ]
    },
    {
      "cell_type": "code",
      "metadata": {
        "colab_type": "code",
        "id": "ohOGz24lsNAD",
        "colab": {}
      },
      "source": [
        "sentences=[]\n",
        "labels=[]\n",
        "random.shuffle(corpus)\n",
        "for x in range(training_size):\n",
        "    sentences.append(corpus[x][0])\n",
        "    labels.append(corpus[x][1])\n",
        "\n",
        "\n",
        "tokenizer = Tokenizer()\n",
        "tokenizer.fit_on_texts(sentences)\n",
        "\n",
        "word_index = tokenizer.word_index\n",
        "vocab_size=len(word_index)\n",
        "\n",
        "sequences = tokenizer.texts_to_sequences(sentences)\n",
        "padded = pad_sequences(sequences, maxlen=max_length, padding=padding_type, truncating=trunc_type)\n",
        "\n",
        "split = int(test_portion * training_size)\n",
        "\n",
        "test_sequences = np.array(padded[0:split])\n",
        "training_sequences = np.array(padded[split:training_size])\n",
        "test_labels = np.array(labels[0:split])\n",
        "training_labels = np.array(labels[split:training_size])"
      ],
      "execution_count": 0,
      "outputs": []
    },
    {
      "cell_type": "code",
      "metadata": {
        "colab_type": "code",
        "id": "gIrtRem1En3N",
        "outputId": "c96d69c9-4d5e-45d3-8512-b06811590255",
        "colab": {
          "base_uri": "https://localhost:8080/",
          "height": 50
        }
      },
      "source": [
        "print(vocab_size)\n",
        "print(word_index['i'])\n",
        "# Expected Output\n",
        "# 138858\n",
        "# 1"
      ],
      "execution_count": 5,
      "outputs": [
        {
          "output_type": "stream",
          "text": [
            "139017\n",
            "1\n"
          ],
          "name": "stdout"
        }
      ]
    },
    {
      "cell_type": "code",
      "metadata": {
        "colab_type": "code",
        "id": "C1zdgJkusRh0",
        "outputId": "5c3d3fcc-8c5d-48d9-ac26-d5748dcfbe8c",
        "colab": {
          "base_uri": "https://localhost:8080/",
          "height": 202
        }
      },
      "source": [
        "# Note this is the 100 dimension version of GloVe from Stanford\n",
        "# I unzipped and hosted it on my site to make this notebook easier\n",
        "!wget --no-check-certificate \\\n",
        "    https://storage.googleapis.com/laurencemoroney-blog.appspot.com/glove.6B.100d.txt \\\n",
        "    -O /tmp/glove.6B.100d.txt\n",
        "embeddings_index = {};\n",
        "with open('/tmp/glove.6B.100d.txt') as f:\n",
        "    for line in f:\n",
        "        values = line.split();\n",
        "        word = values[0];\n",
        "        coefs = np.asarray(values[1:], dtype='float32');\n",
        "        embeddings_index[word] = coefs;\n",
        "\n",
        "embeddings_matrix = np.zeros((vocab_size+1, embedding_dim));\n",
        "for word, i in word_index.items():\n",
        "    embedding_vector = embeddings_index.get(word);\n",
        "    if embedding_vector is not None:\n",
        "        embeddings_matrix[i] = embedding_vector;"
      ],
      "execution_count": 6,
      "outputs": [
        {
          "output_type": "stream",
          "text": [
            "--2020-04-29 05:28:38--  https://storage.googleapis.com/laurencemoroney-blog.appspot.com/glove.6B.100d.txt\n",
            "Resolving storage.googleapis.com (storage.googleapis.com)... 74.125.133.128, 2a00:1450:400c:c00::80\n",
            "Connecting to storage.googleapis.com (storage.googleapis.com)|74.125.133.128|:443... connected.\n",
            "HTTP request sent, awaiting response... 200 OK\n",
            "Length: 347116733 (331M) [text/plain]\n",
            "Saving to: ‘/tmp/glove.6B.100d.txt’\n",
            "\n",
            "/tmp/glove.6B.100d. 100%[===================>] 331.04M   183MB/s    in 1.8s    \n",
            "\n",
            "2020-04-29 05:28:40 (183 MB/s) - ‘/tmp/glove.6B.100d.txt’ saved [347116733/347116733]\n",
            "\n"
          ],
          "name": "stdout"
        }
      ]
    },
    {
      "cell_type": "code",
      "metadata": {
        "colab_type": "code",
        "id": "71NLk_lpFLNt",
        "outputId": "5af05b0f-ab90-4a88-b01f-5e70760a664e",
        "colab": {
          "base_uri": "https://localhost:8080/",
          "height": 34
        }
      },
      "source": [
        "print(len(embeddings_matrix))\n",
        "# Expected Output\n",
        "# 138859"
      ],
      "execution_count": 7,
      "outputs": [
        {
          "output_type": "stream",
          "text": [
            "139018\n"
          ],
          "name": "stdout"
        }
      ]
    },
    {
      "cell_type": "code",
      "metadata": {
        "colab_type": "code",
        "id": "iKKvbuEBOGFz",
        "colab": {
          "base_uri": "https://localhost:8080/",
          "height": 1000
        },
        "outputId": "5789d94f-e634-4774-df00-c4ae354f8252"
      },
      "source": [
        "model = tf.keras.Sequential([\n",
        "    tf.keras.layers.Embedding(vocab_size+1, embedding_dim, input_length=max_length, weights=[embeddings_matrix], trainable=False),\n",
        "    tf.keras.layers.Dropout(0.2),\n",
        "    tf.keras.layers.Conv1D(64, 5, activation='relu'),\n",
        "    tf.keras.layers.MaxPooling1D(pool_size=4),\n",
        "    tf.keras.layers.LSTM(64),\n",
        "    tf.keras.layers.Dense(1, activation='sigmoid')\n",
        "])\n",
        "model.compile(loss='binary_crossentropy',optimizer='adam',metrics=['accuracy'])\n",
        "model.summary()\n",
        "\n",
        "num_epochs = 50\n",
        "history = model.fit(training_sequences, training_labels, epochs=num_epochs, validation_data=(test_sequences, test_labels), verbose=2)\n",
        "\n",
        "print(\"Training Complete\")\n"
      ],
      "execution_count": 8,
      "outputs": [
        {
          "output_type": "stream",
          "text": [
            "Model: \"sequential\"\n",
            "_________________________________________________________________\n",
            "Layer (type)                 Output Shape              Param #   \n",
            "=================================================================\n",
            "embedding (Embedding)        (None, 16, 100)           13901800  \n",
            "_________________________________________________________________\n",
            "dropout (Dropout)            (None, 16, 100)           0         \n",
            "_________________________________________________________________\n",
            "conv1d (Conv1D)              (None, 12, 64)            32064     \n",
            "_________________________________________________________________\n",
            "max_pooling1d (MaxPooling1D) (None, 3, 64)             0         \n",
            "_________________________________________________________________\n",
            "lstm (LSTM)                  (None, 64)                33024     \n",
            "_________________________________________________________________\n",
            "dense (Dense)                (None, 1)                 65        \n",
            "=================================================================\n",
            "Total params: 13,966,953\n",
            "Trainable params: 65,153\n",
            "Non-trainable params: 13,901,800\n",
            "_________________________________________________________________\n",
            "Epoch 1/50\n",
            "4500/4500 - 21s - loss: 0.5672 - accuracy: 0.6992 - val_loss: 0.5213 - val_accuracy: 0.7333\n",
            "Epoch 2/50\n",
            "4500/4500 - 20s - loss: 0.5275 - accuracy: 0.7317 - val_loss: 0.5142 - val_accuracy: 0.7403\n",
            "Epoch 3/50\n",
            "4500/4500 - 20s - loss: 0.5107 - accuracy: 0.7423 - val_loss: 0.4983 - val_accuracy: 0.7541\n",
            "Epoch 4/50\n",
            "4500/4500 - 20s - loss: 0.4997 - accuracy: 0.7510 - val_loss: 0.4971 - val_accuracy: 0.7499\n",
            "Epoch 5/50\n",
            "4500/4500 - 21s - loss: 0.4907 - accuracy: 0.7561 - val_loss: 0.4910 - val_accuracy: 0.7554\n",
            "Epoch 6/50\n",
            "4500/4500 - 20s - loss: 0.4838 - accuracy: 0.7618 - val_loss: 0.4925 - val_accuracy: 0.7550\n",
            "Epoch 7/50\n",
            "4500/4500 - 20s - loss: 0.4782 - accuracy: 0.7655 - val_loss: 0.4912 - val_accuracy: 0.7549\n",
            "Epoch 8/50\n",
            "4500/4500 - 20s - loss: 0.4740 - accuracy: 0.7672 - val_loss: 0.4937 - val_accuracy: 0.7533\n",
            "Epoch 9/50\n",
            "4500/4500 - 20s - loss: 0.4685 - accuracy: 0.7703 - val_loss: 0.5009 - val_accuracy: 0.7504\n",
            "Epoch 10/50\n",
            "4500/4500 - 20s - loss: 0.4654 - accuracy: 0.7713 - val_loss: 0.4908 - val_accuracy: 0.7539\n",
            "Epoch 11/50\n",
            "4500/4500 - 20s - loss: 0.4610 - accuracy: 0.7748 - val_loss: 0.4965 - val_accuracy: 0.7542\n",
            "Epoch 12/50\n",
            "4500/4500 - 21s - loss: 0.4599 - accuracy: 0.7754 - val_loss: 0.4950 - val_accuracy: 0.7545\n",
            "Epoch 13/50\n",
            "4500/4500 - 20s - loss: 0.4567 - accuracy: 0.7787 - val_loss: 0.4922 - val_accuracy: 0.7558\n",
            "Epoch 14/50\n",
            "4500/4500 - 20s - loss: 0.4532 - accuracy: 0.7812 - val_loss: 0.4965 - val_accuracy: 0.7551\n",
            "Epoch 15/50\n",
            "4500/4500 - 20s - loss: 0.4508 - accuracy: 0.7811 - val_loss: 0.4974 - val_accuracy: 0.7543\n",
            "Epoch 16/50\n",
            "4500/4500 - 20s - loss: 0.4502 - accuracy: 0.7822 - val_loss: 0.5001 - val_accuracy: 0.7570\n",
            "Epoch 17/50\n",
            "4500/4500 - 20s - loss: 0.4479 - accuracy: 0.7834 - val_loss: 0.5001 - val_accuracy: 0.7583\n",
            "Epoch 18/50\n",
            "4500/4500 - 20s - loss: 0.4457 - accuracy: 0.7862 - val_loss: 0.5028 - val_accuracy: 0.7527\n",
            "Epoch 19/50\n",
            "4500/4500 - 20s - loss: 0.4447 - accuracy: 0.7867 - val_loss: 0.4996 - val_accuracy: 0.7561\n",
            "Epoch 20/50\n",
            "4500/4500 - 21s - loss: 0.4424 - accuracy: 0.7866 - val_loss: 0.5092 - val_accuracy: 0.7533\n",
            "Epoch 21/50\n",
            "4500/4500 - 20s - loss: 0.4426 - accuracy: 0.7868 - val_loss: 0.5004 - val_accuracy: 0.7551\n",
            "Epoch 22/50\n",
            "4500/4500 - 20s - loss: 0.4399 - accuracy: 0.7881 - val_loss: 0.5024 - val_accuracy: 0.7492\n",
            "Epoch 23/50\n",
            "4500/4500 - 20s - loss: 0.4392 - accuracy: 0.7886 - val_loss: 0.5064 - val_accuracy: 0.7508\n",
            "Epoch 24/50\n",
            "4500/4500 - 20s - loss: 0.4398 - accuracy: 0.7887 - val_loss: 0.5056 - val_accuracy: 0.7491\n",
            "Epoch 25/50\n",
            "4500/4500 - 20s - loss: 0.4378 - accuracy: 0.7898 - val_loss: 0.5132 - val_accuracy: 0.7517\n",
            "Epoch 26/50\n",
            "4500/4500 - 20s - loss: 0.4371 - accuracy: 0.7896 - val_loss: 0.5053 - val_accuracy: 0.7514\n",
            "Epoch 27/50\n",
            "4500/4500 - 21s - loss: 0.4373 - accuracy: 0.7897 - val_loss: 0.5052 - val_accuracy: 0.7542\n",
            "Epoch 28/50\n",
            "4500/4500 - 20s - loss: 0.4366 - accuracy: 0.7902 - val_loss: 0.5102 - val_accuracy: 0.7531\n",
            "Epoch 29/50\n",
            "4500/4500 - 20s - loss: 0.4351 - accuracy: 0.7927 - val_loss: 0.5074 - val_accuracy: 0.7516\n",
            "Epoch 30/50\n",
            "4500/4500 - 20s - loss: 0.4337 - accuracy: 0.7923 - val_loss: 0.5077 - val_accuracy: 0.7551\n",
            "Epoch 31/50\n",
            "4500/4500 - 20s - loss: 0.4350 - accuracy: 0.7913 - val_loss: 0.5051 - val_accuracy: 0.7545\n",
            "Epoch 32/50\n",
            "4500/4500 - 20s - loss: 0.4336 - accuracy: 0.7925 - val_loss: 0.5071 - val_accuracy: 0.7548\n",
            "Epoch 33/50\n",
            "4500/4500 - 20s - loss: 0.4332 - accuracy: 0.7922 - val_loss: 0.5065 - val_accuracy: 0.7524\n",
            "Epoch 34/50\n",
            "4500/4500 - 20s - loss: 0.4329 - accuracy: 0.7933 - val_loss: 0.5095 - val_accuracy: 0.7514\n",
            "Epoch 35/50\n",
            "4500/4500 - 20s - loss: 0.4329 - accuracy: 0.7926 - val_loss: 0.5079 - val_accuracy: 0.7501\n",
            "Epoch 36/50\n",
            "4500/4500 - 21s - loss: 0.4309 - accuracy: 0.7942 - val_loss: 0.5105 - val_accuracy: 0.7561\n",
            "Epoch 37/50\n",
            "4500/4500 - 20s - loss: 0.4309 - accuracy: 0.7944 - val_loss: 0.5147 - val_accuracy: 0.7548\n",
            "Epoch 38/50\n",
            "4500/4500 - 20s - loss: 0.4316 - accuracy: 0.7937 - val_loss: 0.5095 - val_accuracy: 0.7510\n",
            "Epoch 39/50\n",
            "4500/4500 - 20s - loss: 0.4307 - accuracy: 0.7944 - val_loss: 0.5093 - val_accuracy: 0.7526\n",
            "Epoch 40/50\n",
            "4500/4500 - 20s - loss: 0.4298 - accuracy: 0.7953 - val_loss: 0.5117 - val_accuracy: 0.7509\n",
            "Epoch 41/50\n",
            "4500/4500 - 20s - loss: 0.4300 - accuracy: 0.7958 - val_loss: 0.5107 - val_accuracy: 0.7492\n",
            "Epoch 42/50\n",
            "4500/4500 - 20s - loss: 0.4303 - accuracy: 0.7956 - val_loss: 0.5117 - val_accuracy: 0.7471\n",
            "Epoch 43/50\n",
            "4500/4500 - 20s - loss: 0.4289 - accuracy: 0.7948 - val_loss: 0.5108 - val_accuracy: 0.7529\n",
            "Epoch 44/50\n",
            "4500/4500 - 20s - loss: 0.4279 - accuracy: 0.7956 - val_loss: 0.5136 - val_accuracy: 0.7501\n",
            "Epoch 45/50\n",
            "4500/4500 - 20s - loss: 0.4307 - accuracy: 0.7943 - val_loss: 0.5106 - val_accuracy: 0.7544\n",
            "Epoch 46/50\n",
            "4500/4500 - 20s - loss: 0.4284 - accuracy: 0.7958 - val_loss: 0.5123 - val_accuracy: 0.7514\n",
            "Epoch 47/50\n",
            "4500/4500 - 20s - loss: 0.4285 - accuracy: 0.7951 - val_loss: 0.5085 - val_accuracy: 0.7526\n",
            "Epoch 48/50\n",
            "4500/4500 - 20s - loss: 0.4291 - accuracy: 0.7955 - val_loss: 0.5131 - val_accuracy: 0.7520\n",
            "Epoch 49/50\n",
            "4500/4500 - 20s - loss: 0.4284 - accuracy: 0.7951 - val_loss: 0.5101 - val_accuracy: 0.7523\n",
            "Epoch 50/50\n",
            "4500/4500 - 20s - loss: 0.4270 - accuracy: 0.7969 - val_loss: 0.5107 - val_accuracy: 0.7529\n",
            "Training Complete\n"
          ],
          "name": "stdout"
        }
      ]
    },
    {
      "cell_type": "code",
      "metadata": {
        "colab_type": "code",
        "id": "qxju4ItJKO8F",
        "colab": {
          "base_uri": "https://localhost:8080/",
          "height": 606
        },
        "outputId": "73e8818d-e385-45c2-d2b2-6b3bdf77a4c2"
      },
      "source": [
        "import matplotlib.image  as mpimg\n",
        "import matplotlib.pyplot as plt\n",
        "\n",
        "#-----------------------------------------------------------\n",
        "# Retrieve a list of list results on training and test data\n",
        "# sets for each training epoch\n",
        "#-----------------------------------------------------------\n",
        "acc=history.history['accuracy']\n",
        "val_acc=history.history['val_accuracy']\n",
        "loss=history.history['loss']\n",
        "val_loss=history.history['val_loss']\n",
        "\n",
        "epochs=range(len(acc)) # Get number of epochs\n",
        "\n",
        "#------------------------------------------------\n",
        "# Plot training and validation accuracy per epoch\n",
        "#------------------------------------------------\n",
        "plt.plot(epochs, acc, 'r')\n",
        "plt.plot(epochs, val_acc, 'b')\n",
        "plt.title('Training and validation accuracy')\n",
        "plt.xlabel(\"Epochs\")\n",
        "plt.ylabel(\"Accuracy\")\n",
        "plt.legend([\"Accuracy\", \"Validation Accuracy\"])\n",
        "\n",
        "plt.figure()\n",
        "\n",
        "#------------------------------------------------\n",
        "# Plot training and validation loss per epoch\n",
        "#------------------------------------------------\n",
        "plt.plot(epochs, loss, 'r')\n",
        "plt.plot(epochs, val_loss, 'b')\n",
        "plt.title('Training and validation loss')\n",
        "plt.xlabel(\"Epochs\")\n",
        "plt.ylabel(\"Loss\")\n",
        "plt.legend([\"Loss\", \"Validation Loss\"])\n",
        "\n",
        "plt.figure()\n",
        "\n",
        "\n",
        "# Expected Output\n",
        "# A chart where the validation loss does not increase sharply!"
      ],
      "execution_count": 9,
      "outputs": [
        {
          "output_type": "execute_result",
          "data": {
            "text/plain": [
              "<Figure size 432x288 with 0 Axes>"
            ]
          },
          "metadata": {
            "tags": []
          },
          "execution_count": 9
        },
        {
          "output_type": "display_data",
          "data": {
            "image/png": "[encoded data removed]",
            "text/plain": [
              "<Figure size 432x288 with 1 Axes>"
            ]
          },
          "metadata": {
            "tags": [],
            "needs_background": "light"
          }
        },
        {
          "output_type": "display_data",
          "data": {
            "image/png": "[encoded data removed]",
            "text/plain": [
              "<Figure size 432x288 with 1 Axes>"
            ]
          },
          "metadata": {
            "tags": [],
            "needs_background": "light"
          }
        },
        {
          "output_type": "display_data",
          "data": {
            "text/plain": [
              "<Figure size 432x288 with 0 Axes>"
            ]
          },
          "metadata": {
            "tags": []
          }
        }
      ]
    },
    {
      "cell_type": "code",
      "metadata": {
        "id": "sGkgSRkDeCWr",
        "colab_type": "code",
        "colab": {}
      },
      "source": [
        ""
      ],
      "execution_count": 0,
      "outputs": []
    }
  ]
}