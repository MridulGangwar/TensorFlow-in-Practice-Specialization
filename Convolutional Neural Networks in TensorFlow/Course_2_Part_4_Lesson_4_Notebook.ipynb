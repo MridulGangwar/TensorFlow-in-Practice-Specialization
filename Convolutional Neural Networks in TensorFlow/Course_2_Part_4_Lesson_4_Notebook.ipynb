{
  "nbformat": 4,
  "nbformat_minor": 0,
  "metadata": {
    "accelerator": "GPU",
    "colab": {
      "name": "Course 2 - Part 4 - Lesson 4 - Notebook.ipynb",
      "provenance": [],
      "collapsed_sections": [],
      "toc_visible": true
    },
    "kernelspec": {
      "display_name": "Python 3",
      "name": "python3"
    }
  },
  "cells": [
    {
      "cell_type": "markdown",
      "metadata": {
        "colab_type": "text",
        "id": "rX8mhOLljYeM"
      },
      "source": [
        "##### Copyright 2019 The TensorFlow Authors."
      ]
    },
    {
      "cell_type": "code",
      "metadata": {
        "cellView": "form",
        "colab_type": "code",
        "id": "BZSlp3DAjdYf",
        "colab": {}
      },
      "source": [
        "#@title Licensed under the Apache License, Version 2.0 (the \"License\");\n",
        "# you may not use this file except in compliance with the License.\n",
        "# You may obtain a copy of the License at\n",
        "#\n",
        "# https://www.apache.org/licenses/LICENSE-2.0\n",
        "#\n",
        "# Unless required by applicable law or agreed to in writing, software\n",
        "# distributed under the License is distributed on an \"AS IS\" BASIS,\n",
        "# WITHOUT WARRANTIES OR CONDITIONS OF ANY KIND, either express or implied.\n",
        "# See the License for the specific language governing permissions and\n",
        "# limitations under the License."
      ],
      "execution_count": 0,
      "outputs": []
    },
    {
      "cell_type": "code",
      "metadata": {
        "colab_type": "code",
        "id": "RXZT2UsyIVe_",
        "colab": {
          "base_uri": "https://localhost:8080/",
          "height": 386
        },
        "outputId": "a4eb518e-fb4c-4fa3-cf2e-5695fc48a23c"
      },
      "source": [
        "!wget --no-check-certificate \\\n",
        "    https://storage.googleapis.com/laurencemoroney-blog.appspot.com/horse-or-human.zip \\\n",
        "    -O /tmp/horse-or-human.zip\n",
        "\n",
        "!wget --no-check-certificate \\\n",
        "    https://storage.googleapis.com/laurencemoroney-blog.appspot.com/validation-horse-or-human.zip \\\n",
        "    -O /tmp/validation-horse-or-human.zip\n",
        "  \n",
        "import os\n",
        "import zipfile\n",
        "\n",
        "local_zip = '/tmp/horse-or-human.zip'\n",
        "zip_ref = zipfile.ZipFile(local_zip, 'r')\n",
        "zip_ref.extractall('/tmp/horse-or-human')\n",
        "local_zip = '/tmp/validation-horse-or-human.zip'\n",
        "zip_ref = zipfile.ZipFile(local_zip, 'r')\n",
        "zip_ref.extractall('/tmp/validation-horse-or-human')\n",
        "zip_ref.close()\n",
        "# Directory with our training horse pictures\n",
        "train_horse_dir = os.path.join('/tmp/horse-or-human/horses')\n",
        "\n",
        "# Directory with our training human pictures\n",
        "train_human_dir = os.path.join('/tmp/horse-or-human/humans')\n",
        "\n",
        "# Directory with our training horse pictures\n",
        "validation_horse_dir = os.path.join('/tmp/validation-horse-or-human/horses')\n",
        "\n",
        "# Directory with our training human pictures\n",
        "validation_human_dir = os.path.join('/tmp/validation-horse-or-human/humans')"
      ],
      "execution_count": 1,
      "outputs": [
        {
          "output_type": "stream",
          "text": [
            "--2020-04-15 05:37:58--  https://storage.googleapis.com/laurencemoroney-blog.appspot.com/horse-or-human.zip\n",
            "Resolving storage.googleapis.com (storage.googleapis.com)... 74.125.20.128, 2607:f8b0:400e:c08::80\n",
            "Connecting to storage.googleapis.com (storage.googleapis.com)|74.125.20.128|:443... connected.\n",
            "HTTP request sent, awaiting response... 200 OK\n",
            "Length: 149574867 (143M) [application/zip]\n",
            "Saving to: ‘/tmp/horse-or-human.zip’\n",
            "\n",
            "/tmp/horse-or-human 100%[===================>] 142.65M   100MB/s    in 1.4s    \n",
            "\n",
            "2020-04-15 05:38:00 (100 MB/s) - ‘/tmp/horse-or-human.zip’ saved [149574867/149574867]\n",
            "\n",
            "--2020-04-15 05:38:00--  https://storage.googleapis.com/laurencemoroney-blog.appspot.com/validation-horse-or-human.zip\n",
            "Resolving storage.googleapis.com (storage.googleapis.com)... 74.125.20.128, 2607:f8b0:400e:c0a::80\n",
            "Connecting to storage.googleapis.com (storage.googleapis.com)|74.125.20.128|:443... connected.\n",
            "HTTP request sent, awaiting response... 200 OK\n",
            "Length: 11480187 (11M) [application/zip]\n",
            "Saving to: ‘/tmp/validation-horse-or-human.zip’\n",
            "\n",
            "/tmp/validation-hor 100%[===================>]  10.95M  65.5MB/s    in 0.2s    \n",
            "\n",
            "2020-04-15 05:38:01 (65.5 MB/s) - ‘/tmp/validation-horse-or-human.zip’ saved [11480187/11480187]\n",
            "\n"
          ],
          "name": "stdout"
        }
      ]
    },
    {
      "cell_type": "markdown",
      "metadata": {
        "colab_type": "text",
        "id": "5oqBkNBJmtUv"
      },
      "source": [
        "## Building a Small Model from Scratch\n",
        "\n",
        "But before we continue, let's start defining the model:\n",
        "\n",
        "Step 1 will be to import tensorflow."
      ]
    },
    {
      "cell_type": "code",
      "metadata": {
        "colab_type": "code",
        "id": "qvfZg3LQbD-5",
        "colab": {}
      },
      "source": [
        "import tensorflow as tf"
      ],
      "execution_count": 0,
      "outputs": []
    },
    {
      "cell_type": "markdown",
      "metadata": {
        "colab_type": "text",
        "id": "BnhYCP4tdqjC"
      },
      "source": [
        "We then add convolutional layers as in the previous example, and flatten the final result to feed into the densely connected layers."
      ]
    },
    {
      "cell_type": "markdown",
      "metadata": {
        "colab_type": "text",
        "id": "gokG5HKpdtzm"
      },
      "source": [
        "Finally we add the densely connected layers. \n",
        "\n",
        "Note that because we are facing a two-class classification problem, i.e. a *binary classification problem*, we will end our network with a [*sigmoid* activation](https://wikipedia.org/wiki/Sigmoid_function), so that the output of our network will be a single scalar between 0 and 1, encoding the probability that the current image is class 1 (as opposed to class 0)."
      ]
    },
    {
      "cell_type": "code",
      "metadata": {
        "colab_type": "code",
        "id": "PixZ2s5QbYQ3",
        "colab": {}
      },
      "source": [
        "model = tf.keras.models.Sequential([\n",
        "    # Note the input shape is the desired size of the image 300x300 with 3 bytes color\n",
        "    # This is the first convolution\n",
        "    tf.keras.layers.Conv2D(16, (3,3), activation='relu', input_shape=(300, 300, 3)),\n",
        "    tf.keras.layers.MaxPooling2D(2, 2),\n",
        "    # The second convolution\n",
        "    tf.keras.layers.Conv2D(32, (3,3), activation='relu'),\n",
        "    tf.keras.layers.MaxPooling2D(2,2),\n",
        "    # The third convolution\n",
        "    tf.keras.layers.Conv2D(64, (3,3), activation='relu'),\n",
        "    tf.keras.layers.MaxPooling2D(2,2),\n",
        "    # The fourth convolution\n",
        "    tf.keras.layers.Conv2D(64, (3,3), activation='relu'),\n",
        "    tf.keras.layers.MaxPooling2D(2,2),\n",
        "    # The fifth convolution\n",
        "    tf.keras.layers.Conv2D(64, (3,3), activation='relu'),\n",
        "    tf.keras.layers.MaxPooling2D(2,2),\n",
        "    # Flatten the results to feed into a DNN\n",
        "    tf.keras.layers.Flatten(),\n",
        "    # 512 neuron hidden layer\n",
        "    tf.keras.layers.Dense(512, activation='relu'),\n",
        "    # Only 1 output neuron. It will contain a value from 0-1 where 0 for 1 class ('horses') and 1 for the other ('humans')\n",
        "    tf.keras.layers.Dense(1, activation='sigmoid')\n",
        "])"
      ],
      "execution_count": 0,
      "outputs": []
    },
    {
      "cell_type": "code",
      "metadata": {
        "colab_type": "code",
        "id": "8DHWhFP_uhq3",
        "colab": {}
      },
      "source": [
        "from tensorflow.keras.optimizers import RMSprop\n",
        "\n",
        "model.compile(loss='binary_crossentropy',\n",
        "              optimizer=RMSprop(lr=1e-4),\n",
        "              metrics=['accuracy'])"
      ],
      "execution_count": 0,
      "outputs": []
    },
    {
      "cell_type": "code",
      "metadata": {
        "colab_type": "code",
        "id": "ClebU9NJg99G",
        "colab": {
          "base_uri": "https://localhost:8080/",
          "height": 50
        },
        "outputId": "5fe95c15-cbba-49eb-b6be-53d905b8d562"
      },
      "source": [
        "from tensorflow.keras.preprocessing.image import ImageDataGenerator\n",
        "\n",
        "# All images will be rescaled by 1./255\n",
        "train_datagen = ImageDataGenerator(\n",
        "      rescale=1./255,\n",
        "      rotation_range=40,\n",
        "      width_shift_range=0.2,\n",
        "      height_shift_range=0.2,\n",
        "      shear_range=0.2,\n",
        "      zoom_range=0.2,\n",
        "      horizontal_flip=True,\n",
        "      fill_mode='nearest')\n",
        "\n",
        "validation_datagen = ImageDataGenerator(rescale=1/255)\n",
        "\n",
        "# Flow training images in batches of 128 using train_datagen generator\n",
        "train_generator = train_datagen.flow_from_directory(\n",
        "        '/tmp/horse-or-human/',  # This is the source directory for training images\n",
        "        target_size=(300, 300),  # All images will be resized to 150x150\n",
        "        batch_size=128,\n",
        "        # Since we use binary_crossentropy loss, we need binary labels\n",
        "        class_mode='binary')\n",
        "\n",
        "# Flow training images in batches of 128 using train_datagen generator\n",
        "validation_generator = validation_datagen.flow_from_directory(\n",
        "        '/tmp/validation-horse-or-human/',  # This is the source directory for training images\n",
        "        target_size=(300, 300),  # All images will be resized to 150x150\n",
        "        batch_size=32,\n",
        "        # Since we use binary_crossentropy loss, we need binary labels\n",
        "        class_mode='binary')"
      ],
      "execution_count": 5,
      "outputs": [
        {
          "output_type": "stream",
          "text": [
            "Found 1027 images belonging to 2 classes.\n",
            "Found 256 images belonging to 2 classes.\n"
          ],
          "name": "stdout"
        }
      ]
    },
    {
      "cell_type": "code",
      "metadata": {
        "colab_type": "code",
        "id": "Fb1_lgobv81m",
        "colab": {
          "base_uri": "https://localhost:8080/",
          "height": 1000
        },
        "outputId": "3f34068c-fda8-4df6-c6cf-45ba0cfde996"
      },
      "source": [
        "history = model.fit(\n",
        "      train_generator,\n",
        "      steps_per_epoch=8,  \n",
        "      epochs=100,\n",
        "      verbose=1,\n",
        "      validation_data = validation_generator,\n",
        "      validation_steps=8)"
      ],
      "execution_count": 6,
      "outputs": [
        {
          "output_type": "stream",
          "text": [
            "Epoch 1/100\n",
            "8/8 [==============================] - 19s 2s/step - loss: 0.6853 - accuracy: 0.5869 - val_loss: 0.6698 - val_accuracy: 0.5000\n",
            "Epoch 2/100\n",
            "8/8 [==============================] - 21s 3s/step - loss: 0.6602 - accuracy: 0.6040 - val_loss: 0.6644 - val_accuracy: 0.5039\n",
            "Epoch 3/100\n",
            "8/8 [==============================] - 18s 2s/step - loss: 0.6329 - accuracy: 0.6507 - val_loss: 0.7240 - val_accuracy: 0.5117\n",
            "Epoch 4/100\n",
            "8/8 [==============================] - 18s 2s/step - loss: 0.6194 - accuracy: 0.7019 - val_loss: 0.6090 - val_accuracy: 0.6602\n",
            "Epoch 5/100\n",
            "8/8 [==============================] - 19s 2s/step - loss: 0.5907 - accuracy: 0.7430 - val_loss: 0.6663 - val_accuracy: 0.5273\n",
            "Epoch 6/100\n",
            "8/8 [==============================] - 19s 2s/step - loss: 0.5838 - accuracy: 0.6997 - val_loss: 0.7001 - val_accuracy: 0.5312\n",
            "Epoch 7/100\n",
            "8/8 [==============================] - 19s 2s/step - loss: 0.6061 - accuracy: 0.7008 - val_loss: 0.5687 - val_accuracy: 0.6680\n",
            "Epoch 8/100\n",
            "8/8 [==============================] - 19s 2s/step - loss: 0.5398 - accuracy: 0.7386 - val_loss: 0.6008 - val_accuracy: 0.6172\n",
            "Epoch 9/100\n",
            "8/8 [==============================] - 19s 2s/step - loss: 0.5265 - accuracy: 0.7442 - val_loss: 1.3561 - val_accuracy: 0.5000\n",
            "Epoch 10/100\n",
            "8/8 [==============================] - 21s 3s/step - loss: 0.5182 - accuracy: 0.7549 - val_loss: 0.8544 - val_accuracy: 0.5117\n",
            "Epoch 11/100\n",
            "8/8 [==============================] - 22s 3s/step - loss: 0.4961 - accuracy: 0.7631 - val_loss: 0.8677 - val_accuracy: 0.5156\n",
            "Epoch 12/100\n",
            "8/8 [==============================] - 19s 2s/step - loss: 0.5396 - accuracy: 0.7386 - val_loss: 0.6542 - val_accuracy: 0.6406\n",
            "Epoch 13/100\n",
            "8/8 [==============================] - 19s 2s/step - loss: 0.4556 - accuracy: 0.7709 - val_loss: 0.6262 - val_accuracy: 0.7070\n",
            "Epoch 14/100\n",
            "8/8 [==============================] - 19s 2s/step - loss: 0.5351 - accuracy: 0.7519 - val_loss: 0.7243 - val_accuracy: 0.6523\n",
            "Epoch 15/100\n",
            "8/8 [==============================] - 19s 2s/step - loss: 0.4675 - accuracy: 0.7675 - val_loss: 0.6615 - val_accuracy: 0.6914\n",
            "Epoch 16/100\n",
            "8/8 [==============================] - 19s 2s/step - loss: 0.5049 - accuracy: 0.7709 - val_loss: 1.0447 - val_accuracy: 0.5742\n",
            "Epoch 17/100\n",
            "8/8 [==============================] - 19s 2s/step - loss: 0.4187 - accuracy: 0.8009 - val_loss: 1.2174 - val_accuracy: 0.5391\n",
            "Epoch 18/100\n",
            "8/8 [==============================] - 19s 2s/step - loss: 0.4226 - accuracy: 0.8087 - val_loss: 0.4833 - val_accuracy: 0.7969\n",
            "Epoch 19/100\n",
            "8/8 [==============================] - 21s 3s/step - loss: 0.4382 - accuracy: 0.7949 - val_loss: 0.7673 - val_accuracy: 0.6719\n",
            "Epoch 20/100\n",
            "8/8 [==============================] - 22s 3s/step - loss: 0.4348 - accuracy: 0.8042 - val_loss: 1.2825 - val_accuracy: 0.5781\n",
            "Epoch 21/100\n",
            "8/8 [==============================] - 20s 2s/step - loss: 0.4124 - accuracy: 0.7853 - val_loss: 1.1079 - val_accuracy: 0.6484\n",
            "Epoch 22/100\n",
            "8/8 [==============================] - 20s 2s/step - loss: 0.3652 - accuracy: 0.8187 - val_loss: 0.8878 - val_accuracy: 0.6836\n",
            "Epoch 23/100\n",
            "8/8 [==============================] - 19s 2s/step - loss: 0.4241 - accuracy: 0.8098 - val_loss: 1.2219 - val_accuracy: 0.6367\n",
            "Epoch 24/100\n",
            "8/8 [==============================] - 19s 2s/step - loss: 0.4116 - accuracy: 0.8098 - val_loss: 1.5007 - val_accuracy: 0.5352\n",
            "Epoch 25/100\n",
            "8/8 [==============================] - 19s 2s/step - loss: 0.3372 - accuracy: 0.8498 - val_loss: 1.9301 - val_accuracy: 0.5430\n",
            "Epoch 26/100\n",
            "8/8 [==============================] - 19s 2s/step - loss: 0.6671 - accuracy: 0.7564 - val_loss: 0.8207 - val_accuracy: 0.6797\n",
            "Epoch 27/100\n",
            "8/8 [==============================] - 19s 2s/step - loss: 0.3643 - accuracy: 0.8354 - val_loss: 1.2594 - val_accuracy: 0.5859\n",
            "Epoch 28/100\n",
            "8/8 [==============================] - 21s 3s/step - loss: 0.3534 - accuracy: 0.8506 - val_loss: 1.4370 - val_accuracy: 0.5938\n",
            "Epoch 29/100\n",
            "8/8 [==============================] - 22s 3s/step - loss: 0.3148 - accuracy: 0.8665 - val_loss: 2.0171 - val_accuracy: 0.5430\n",
            "Epoch 30/100\n",
            "8/8 [==============================] - 19s 2s/step - loss: 0.4148 - accuracy: 0.8331 - val_loss: 1.4029 - val_accuracy: 0.5938\n",
            "Epoch 31/100\n",
            "8/8 [==============================] - 19s 2s/step - loss: 0.3241 - accuracy: 0.8543 - val_loss: 1.1994 - val_accuracy: 0.6484\n",
            "Epoch 32/100\n",
            "8/8 [==============================] - 19s 2s/step - loss: 0.4209 - accuracy: 0.8343 - val_loss: 1.3707 - val_accuracy: 0.5977\n",
            "Epoch 33/100\n",
            "8/8 [==============================] - 19s 2s/step - loss: 0.4635 - accuracy: 0.8309 - val_loss: 1.2884 - val_accuracy: 0.6211\n",
            "Epoch 34/100\n",
            "8/8 [==============================] - 19s 2s/step - loss: 0.3607 - accuracy: 0.8654 - val_loss: 1.3307 - val_accuracy: 0.6328\n",
            "Epoch 35/100\n",
            "8/8 [==============================] - 19s 2s/step - loss: 0.3722 - accuracy: 0.8465 - val_loss: 1.3211 - val_accuracy: 0.6367\n",
            "Epoch 36/100\n",
            "8/8 [==============================] - 18s 2s/step - loss: 0.2843 - accuracy: 0.8776 - val_loss: 2.1813 - val_accuracy: 0.5430\n",
            "Epoch 37/100\n",
            "8/8 [==============================] - 21s 3s/step - loss: 0.3359 - accuracy: 0.8447 - val_loss: 2.0953 - val_accuracy: 0.5430\n",
            "Epoch 38/100\n",
            "8/8 [==============================] - 21s 3s/step - loss: 0.3119 - accuracy: 0.8676 - val_loss: 1.4924 - val_accuracy: 0.6250\n",
            "Epoch 39/100\n",
            "8/8 [==============================] - 18s 2s/step - loss: 0.4265 - accuracy: 0.8398 - val_loss: 1.5062 - val_accuracy: 0.6133\n",
            "Epoch 40/100\n",
            "8/8 [==============================] - 18s 2s/step - loss: 0.2840 - accuracy: 0.8699 - val_loss: 1.8400 - val_accuracy: 0.5859\n",
            "Epoch 41/100\n",
            "8/8 [==============================] - 19s 2s/step - loss: 0.2783 - accuracy: 0.8721 - val_loss: 1.6841 - val_accuracy: 0.6133\n",
            "Epoch 42/100\n",
            "8/8 [==============================] - 18s 2s/step - loss: 0.3988 - accuracy: 0.8432 - val_loss: 1.7596 - val_accuracy: 0.6055\n",
            "Epoch 43/100\n",
            "8/8 [==============================] - 19s 2s/step - loss: 0.2369 - accuracy: 0.8988 - val_loss: 1.5164 - val_accuracy: 0.6328\n",
            "Epoch 44/100\n",
            "8/8 [==============================] - 19s 2s/step - loss: 0.3914 - accuracy: 0.8598 - val_loss: 1.5968 - val_accuracy: 0.6094\n",
            "Epoch 45/100\n",
            "8/8 [==============================] - 19s 2s/step - loss: 0.2633 - accuracy: 0.9032 - val_loss: 1.0508 - val_accuracy: 0.7227\n",
            "Epoch 46/100\n",
            "8/8 [==============================] - 21s 3s/step - loss: 0.2886 - accuracy: 0.8789 - val_loss: 1.9782 - val_accuracy: 0.6055\n",
            "Epoch 47/100\n",
            "8/8 [==============================] - 22s 3s/step - loss: 0.3186 - accuracy: 0.8732 - val_loss: 2.1150 - val_accuracy: 0.5547\n",
            "Epoch 48/100\n",
            "8/8 [==============================] - 19s 2s/step - loss: 0.2964 - accuracy: 0.8932 - val_loss: 1.2909 - val_accuracy: 0.6641\n",
            "Epoch 49/100\n",
            "8/8 [==============================] - 19s 2s/step - loss: 0.2483 - accuracy: 0.8788 - val_loss: 1.6945 - val_accuracy: 0.6367\n",
            "Epoch 50/100\n",
            "8/8 [==============================] - 19s 2s/step - loss: 0.2049 - accuracy: 0.9077 - val_loss: 2.4814 - val_accuracy: 0.5625\n",
            "Epoch 51/100\n",
            "8/8 [==============================] - 19s 2s/step - loss: 0.2675 - accuracy: 0.8699 - val_loss: 1.7215 - val_accuracy: 0.6641\n",
            "Epoch 52/100\n",
            "8/8 [==============================] - 19s 2s/step - loss: 0.2609 - accuracy: 0.8776 - val_loss: 1.6086 - val_accuracy: 0.6602\n",
            "Epoch 53/100\n",
            "8/8 [==============================] - 19s 2s/step - loss: 0.2508 - accuracy: 0.8921 - val_loss: 2.7932 - val_accuracy: 0.5117\n",
            "Epoch 54/100\n",
            "8/8 [==============================] - 19s 2s/step - loss: 0.2351 - accuracy: 0.8988 - val_loss: 0.7954 - val_accuracy: 0.7695\n",
            "Epoch 55/100\n",
            "8/8 [==============================] - 21s 3s/step - loss: 0.2754 - accuracy: 0.8848 - val_loss: 2.2251 - val_accuracy: 0.5664\n",
            "Epoch 56/100\n",
            "8/8 [==============================] - 22s 3s/step - loss: 0.2567 - accuracy: 0.8843 - val_loss: 2.3785 - val_accuracy: 0.5781\n",
            "Epoch 57/100\n",
            "8/8 [==============================] - 19s 2s/step - loss: 0.2754 - accuracy: 0.8943 - val_loss: 2.0039 - val_accuracy: 0.6289\n",
            "Epoch 58/100\n",
            "8/8 [==============================] - 19s 2s/step - loss: 0.2987 - accuracy: 0.9010 - val_loss: 2.1869 - val_accuracy: 0.5977\n",
            "Epoch 59/100\n",
            "8/8 [==============================] - 19s 2s/step - loss: 0.2939 - accuracy: 0.8910 - val_loss: 1.6448 - val_accuracy: 0.6562\n",
            "Epoch 60/100\n",
            "8/8 [==============================] - 19s 2s/step - loss: 0.2303 - accuracy: 0.8943 - val_loss: 1.8888 - val_accuracy: 0.6289\n",
            "Epoch 61/100\n",
            "8/8 [==============================] - 19s 2s/step - loss: 0.1822 - accuracy: 0.9266 - val_loss: 2.6992 - val_accuracy: 0.5781\n",
            "Epoch 62/100\n",
            "8/8 [==============================] - 19s 2s/step - loss: 0.2150 - accuracy: 0.9043 - val_loss: 2.4570 - val_accuracy: 0.5625\n",
            "Epoch 63/100\n",
            "8/8 [==============================] - 19s 2s/step - loss: 0.1961 - accuracy: 0.9210 - val_loss: 1.2388 - val_accuracy: 0.7227\n",
            "Epoch 64/100\n",
            "8/8 [==============================] - 21s 3s/step - loss: 0.2488 - accuracy: 0.8906 - val_loss: 1.6907 - val_accuracy: 0.6562\n",
            "Epoch 65/100\n",
            "8/8 [==============================] - 22s 3s/step - loss: 0.2575 - accuracy: 0.8977 - val_loss: 1.7093 - val_accuracy: 0.6484\n",
            "Epoch 66/100\n",
            "8/8 [==============================] - 19s 2s/step - loss: 0.2697 - accuracy: 0.8999 - val_loss: 2.0845 - val_accuracy: 0.6250\n",
            "Epoch 67/100\n",
            "8/8 [==============================] - 19s 2s/step - loss: 0.1722 - accuracy: 0.9310 - val_loss: 2.0970 - val_accuracy: 0.6484\n",
            "Epoch 68/100\n",
            "8/8 [==============================] - 19s 2s/step - loss: 0.4140 - accuracy: 0.8966 - val_loss: 2.3551 - val_accuracy: 0.6133\n",
            "Epoch 69/100\n",
            "8/8 [==============================] - 19s 2s/step - loss: 0.1852 - accuracy: 0.9143 - val_loss: 2.8533 - val_accuracy: 0.5625\n",
            "Epoch 70/100\n",
            "8/8 [==============================] - 19s 2s/step - loss: 0.4609 - accuracy: 0.8854 - val_loss: 1.2576 - val_accuracy: 0.6680\n",
            "Epoch 71/100\n",
            "8/8 [==============================] - 19s 2s/step - loss: 0.2971 - accuracy: 0.9244 - val_loss: 1.4822 - val_accuracy: 0.6328\n",
            "Epoch 72/100\n",
            "8/8 [==============================] - 19s 2s/step - loss: 0.1886 - accuracy: 0.9321 - val_loss: 2.6963 - val_accuracy: 0.5547\n",
            "Epoch 73/100\n",
            "8/8 [==============================] - 21s 3s/step - loss: 0.2040 - accuracy: 0.9160 - val_loss: 2.2773 - val_accuracy: 0.6328\n",
            "Epoch 74/100\n",
            "8/8 [==============================] - 22s 3s/step - loss: 0.1884 - accuracy: 0.9199 - val_loss: 3.1410 - val_accuracy: 0.5273\n",
            "Epoch 75/100\n",
            "8/8 [==============================] - 19s 2s/step - loss: 0.1781 - accuracy: 0.9255 - val_loss: 4.0991 - val_accuracy: 0.5469\n",
            "Epoch 76/100\n",
            "8/8 [==============================] - 19s 2s/step - loss: 0.1718 - accuracy: 0.9288 - val_loss: 3.5090 - val_accuracy: 0.5391\n",
            "Epoch 77/100\n",
            "8/8 [==============================] - 19s 2s/step - loss: 0.2040 - accuracy: 0.9132 - val_loss: 2.1419 - val_accuracy: 0.6797\n",
            "Epoch 78/100\n",
            "8/8 [==============================] - 19s 2s/step - loss: 0.1960 - accuracy: 0.9310 - val_loss: 2.5318 - val_accuracy: 0.6211\n",
            "Epoch 79/100\n",
            "8/8 [==============================] - 19s 2s/step - loss: 0.3208 - accuracy: 0.8910 - val_loss: 1.5252 - val_accuracy: 0.6875\n",
            "Epoch 80/100\n",
            "8/8 [==============================] - 19s 2s/step - loss: 0.1978 - accuracy: 0.9277 - val_loss: 2.3967 - val_accuracy: 0.6367\n",
            "Epoch 81/100\n",
            "8/8 [==============================] - 19s 2s/step - loss: 0.1954 - accuracy: 0.9444 - val_loss: 3.2611 - val_accuracy: 0.5625\n",
            "Epoch 82/100\n",
            "8/8 [==============================] - 21s 3s/step - loss: 0.1878 - accuracy: 0.9248 - val_loss: 2.4921 - val_accuracy: 0.6445\n",
            "Epoch 83/100\n",
            "8/8 [==============================] - 22s 3s/step - loss: 0.1328 - accuracy: 0.9377 - val_loss: 3.5004 - val_accuracy: 0.5469\n",
            "Epoch 84/100\n",
            "8/8 [==============================] - 19s 2s/step - loss: 0.1430 - accuracy: 0.9333 - val_loss: 2.1822 - val_accuracy: 0.6602\n",
            "Epoch 85/100\n",
            "8/8 [==============================] - 19s 2s/step - loss: 0.2115 - accuracy: 0.8988 - val_loss: 2.9069 - val_accuracy: 0.6133\n",
            "Epoch 86/100\n",
            "8/8 [==============================] - 19s 2s/step - loss: 0.1361 - accuracy: 0.9388 - val_loss: 2.3115 - val_accuracy: 0.6484\n",
            "Epoch 87/100\n",
            "8/8 [==============================] - 19s 2s/step - loss: 0.1464 - accuracy: 0.9410 - val_loss: 2.1371 - val_accuracy: 0.6562\n",
            "Epoch 88/100\n",
            "8/8 [==============================] - 19s 2s/step - loss: 0.1799 - accuracy: 0.9199 - val_loss: 2.3685 - val_accuracy: 0.6758\n",
            "Epoch 89/100\n",
            "8/8 [==============================] - 19s 2s/step - loss: 0.2062 - accuracy: 0.9110 - val_loss: 1.6946 - val_accuracy: 0.6758\n",
            "Epoch 90/100\n",
            "8/8 [==============================] - 19s 2s/step - loss: 0.1595 - accuracy: 0.9455 - val_loss: 6.1802 - val_accuracy: 0.4727\n",
            "Epoch 91/100\n",
            "8/8 [==============================] - 21s 3s/step - loss: 0.2052 - accuracy: 0.9170 - val_loss: 2.5286 - val_accuracy: 0.6641\n",
            "Epoch 92/100\n",
            "8/8 [==============================] - 22s 3s/step - loss: 0.1803 - accuracy: 0.9288 - val_loss: 2.5604 - val_accuracy: 0.6445\n",
            "Epoch 93/100\n",
            "8/8 [==============================] - 19s 2s/step - loss: 0.1436 - accuracy: 0.9344 - val_loss: 3.0832 - val_accuracy: 0.6289\n",
            "Epoch 94/100\n",
            "8/8 [==============================] - 19s 2s/step - loss: 0.1887 - accuracy: 0.9199 - val_loss: 3.2164 - val_accuracy: 0.6250\n",
            "Epoch 95/100\n",
            "8/8 [==============================] - 19s 2s/step - loss: 0.2348 - accuracy: 0.9155 - val_loss: 2.7498 - val_accuracy: 0.6445\n",
            "Epoch 96/100\n",
            "8/8 [==============================] - 19s 2s/step - loss: 0.1494 - accuracy: 0.9499 - val_loss: 2.4321 - val_accuracy: 0.6758\n",
            "Epoch 97/100\n",
            "8/8 [==============================] - 19s 2s/step - loss: 0.2526 - accuracy: 0.9277 - val_loss: 1.6968 - val_accuracy: 0.6953\n",
            "Epoch 98/100\n",
            "8/8 [==============================] - 19s 2s/step - loss: 0.1291 - accuracy: 0.9522 - val_loss: 2.5109 - val_accuracy: 0.6328\n",
            "Epoch 99/100\n",
            "8/8 [==============================] - 19s 2s/step - loss: 0.1177 - accuracy: 0.9499 - val_loss: 2.7467 - val_accuracy: 0.6484\n",
            "Epoch 100/100\n",
            "8/8 [==============================] - 21s 3s/step - loss: 0.1065 - accuracy: 0.9600 - val_loss: 3.1132 - val_accuracy: 0.6445\n"
          ],
          "name": "stdout"
        }
      ]
    },
    {
      "cell_type": "code",
      "metadata": {
        "colab_type": "code",
        "id": "7zNPRWOVJdOH",
        "colab": {
          "base_uri": "https://localhost:8080/",
          "height": 545
        },
        "outputId": "a91ecdfc-9a23-4e5f-d653-ccb0513cd67d"
      },
      "source": [
        "import matplotlib.pyplot as plt\n",
        "acc = history.history['accuracy']\n",
        "val_acc = history.history['val_accuracy']\n",
        "loss = history.history['loss']\n",
        "val_loss = history.history['val_loss']\n",
        "\n",
        "epochs = range(len(acc))\n",
        "\n",
        "plt.plot(epochs, acc, 'r', label='Training accuracy')\n",
        "plt.plot(epochs, val_acc, 'b', label='Validation accuracy')\n",
        "plt.title('Training and validation accuracy')\n",
        "\n",
        "plt.figure()\n",
        "\n",
        "plt.plot(epochs, loss, 'r', label='Training Loss')\n",
        "plt.plot(epochs, val_loss, 'b', label='Validation Loss')\n",
        "plt.title('Training and validation loss')\n",
        "plt.legend()\n",
        "\n",
        "plt.show()"
      ],
      "execution_count": 7,
      "outputs": [
        {
          "output_type": "display_data",
          "data": {
            "image/png": "[encoded data removed]",
            "text/plain": [
              "<Figure size 432x288 with 1 Axes>"
            ]
          },
          "metadata": {
            "tags": [],
            "needs_background": "light"
          }
        },
        {
          "output_type": "display_data",
          "data": {
            "image/png": "[encoded data removed]",
            "text/plain": [
              "<Figure size 432x288 with 1 Axes>"
            ]
          },
          "metadata": {
            "tags": [],
            "needs_background": "light"
          }
        }
      ]
    },
    {
      "cell_type": "code",
      "metadata": {
        "id": "gXK0RRCkYr_q",
        "colab_type": "code",
        "colab": {}
      },
      "source": [
        ""
      ],
      "execution_count": 0,
      "outputs": []
    }
  ]
}